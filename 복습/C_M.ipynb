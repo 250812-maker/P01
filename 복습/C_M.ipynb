{
 "cells": [
  {
   "cell_type": "markdown",
   "id": "b7ab1fcc",
   "metadata": {},
   "source": [
    "## 1번 \n",
    "\n",
    "# 업그레이드미션 1 \n",
    "\n",
    "pay = 12345678\t  # 12345678원 \n",
    "\n",
    " #TODO: 100 미만 절사 처리해주세요 "
   ]
  },
  {
   "cell_type": "code",
   "execution_count": 13,
   "id": "373a38ab",
   "metadata": {},
   "outputs": [
    {
     "name": "stdout",
     "output_type": "stream",
     "text": [
      "12345600 원\n"
     ]
    }
   ],
   "source": [
    "pay = 12345678\n",
    "\n",
    "pay_ = int(pay-78)\n",
    "\n",
    "print(pay_,\"원\") \n"
   ]
  },
  {
   "cell_type": "code",
   "execution_count": 18,
   "id": "b9f094f3",
   "metadata": {},
   "outputs": [
    {
     "name": "stdout",
     "output_type": "stream",
     "text": [
      "100원 미만 절사 금액 : 12,345,600 원\n"
     ]
    }
   ],
   "source": [
    "# 모범답안\n",
    "pay = 12345678\n",
    "\n",
    "pay_Answer = pay//100 * 100\n",
    "pay_Answer_format = \"{:,}\".format(pay_Answer)\n",
    "\n",
    "print(\"100원 미만 절사 금액 :\", pay_Answer_format,\"원\")\n"
   ]
  },
  {
   "cell_type": "markdown",
   "id": "ef0cee63",
   "metadata": {},
   "source": [
    "## 2번 \n",
    "\n",
    "# 업그레이드미션 2  \n",
    "\n",
    "# Todo: 변수 a에 저장된 값의 b자리 값을 계산하여\t 변수 c에 저장하는 코드를 설계하라  \n",
    "\n",
    "#예를 들어 a에 1234가 저장되어 있고 b가 1일 경우 첫 번째 자리값인 4가 c에 저장된다.  \n",
    "\n",
    "#a가 1234일때 b가 4일 경우는 4번째 자리값인 1이 c에 저장되어야 한다.  \n",
    "\n",
    " \n",
    "\n",
    "a = 1234 \n",
    "\n",
    "b = 1 "
   ]
  },
  {
   "cell_type": "code",
   "execution_count": 1,
   "id": "d5bf77fc",
   "metadata": {},
   "outputs": [
    {
     "data": {
      "text/plain": [
       "1234"
      ]
     },
     "execution_count": 1,
     "metadata": {},
     "output_type": "execute_result"
    }
   ],
   "source": [
    "a = 1*(10**3)+2*(10**2)+3*(10**1)+4*(10**0)\n",
    "a"
   ]
  },
  {
   "cell_type": "code",
   "execution_count": null,
   "id": "f868ec96",
   "metadata": {},
   "outputs": [],
   "source": [
    "b = 4\n",
    "c = "
   ]
  },
  {
   "cell_type": "code",
   "execution_count": 2,
   "id": "13d0c300",
   "metadata": {},
   "outputs": [
    {
     "data": {
      "text/plain": [
       "4"
      ]
     },
     "execution_count": 2,
     "metadata": {},
     "output_type": "execute_result"
    }
   ],
   "source": [
    "def solution(a,b):\n",
    "    return int(str(a)[-b])\n",
    "\n",
    "solution(1234,1)"
   ]
  },
  {
   "cell_type": "markdown",
   "id": "1a64d7d5",
   "metadata": {},
   "source": [
    "## 3번 \n",
    "\n",
    "업그레이드미션 3 \n",
    "# 삼각형의 넓이 구하기 \n",
    "사용자에게 삼각형의 밑변과 높이를 입력 받아 삼각형의 넓이를 출력하는 코드를 작성하세요. "
   ]
  },
  {
   "cell_type": "code",
   "execution_count": 9,
   "id": "f991b09d",
   "metadata": {},
   "outputs": [
    {
     "name": "stdout",
     "output_type": "stream",
     "text": [
      "삼각형의 넓이는 6.0 입니다\n"
     ]
    }
   ],
   "source": [
    "Q3_1 = int(input(\"삼각형 밑변 : \"))\n",
    "Q3_2 = int(input(\"삼각형 높이 : \"))\n",
    "\n",
    "\n",
    "def Q3_Solution(Q3_1, Q3_2):\n",
    "    return (Q3_1 * Q3_2 * 0.5)\n",
    "\n",
    "print(f\"삼각형의 넓이는\", Q3_Solution(Q3_1, Q3_2),\"입니다\")"
   ]
  },
  {
   "cell_type": "code",
   "execution_count": null,
   "id": "262cba74",
   "metadata": {},
   "outputs": [],
   "source": []
  }
 ],
 "metadata": {
  "kernelspec": {
   "display_name": "Python 3",
   "language": "python",
   "name": "python3"
  },
  "language_info": {
   "codemirror_mode": {
    "name": "ipython",
    "version": 3
   },
   "file_extension": ".py",
   "mimetype": "text/x-python",
   "name": "python",
   "nbconvert_exporter": "python",
   "pygments_lexer": "ipython3",
   "version": "3.11.8"
  }
 },
 "nbformat": 4,
 "nbformat_minor": 5
}
