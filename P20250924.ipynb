{
 "cells": [
  {
   "cell_type": "code",
   "execution_count": 2,
   "id": "b8a5aa64",
   "metadata": {},
   "outputs": [
    {
     "name": "stdout",
     "output_type": "stream",
     "text": [
      "hi\n"
     ]
    }
   ],
   "source": [
    "print(\"hi\")"
   ]
  },
  {
   "cell_type": "markdown",
   "id": "e647de45",
   "metadata": {},
   "source": [
    "2025-09-24\n",
    "Numpy"
   ]
  },
  {
   "cell_type": "code",
   "execution_count": 4,
   "id": "9243e61e",
   "metadata": {},
   "outputs": [],
   "source": [
    "import numpy as np"
   ]
  },
  {
   "cell_type": "code",
   "execution_count": 5,
   "id": "fe085572",
   "metadata": {},
   "outputs": [
    {
     "data": {
      "text/plain": [
       "'2.3.3'"
      ]
     },
     "execution_count": 5,
     "metadata": {},
     "output_type": "execute_result"
    }
   ],
   "source": [
    "np.__version__"
   ]
  },
  {
   "cell_type": "code",
   "execution_count": 7,
   "id": "48ae1cd9",
   "metadata": {},
   "outputs": [
    {
     "name": "stdout",
     "output_type": "stream",
     "text": [
      "31.6 μs ± 3.27 μs per loop (mean ± std. dev. of 7 runs, 10,000 loops each)\n"
     ]
    }
   ],
   "source": [
    "L = range(1000)\n",
    "%timeit L2 = [i **2 for i in L]"
   ]
  },
  {
   "cell_type": "markdown",
   "id": "828208d9",
   "metadata": {},
   "source": [
    "10:00~10:20 환경 세팅 2"
   ]
  },
  {
   "cell_type": "code",
   "execution_count": 8,
   "id": "7e910c10",
   "metadata": {},
   "outputs": [
    {
     "name": "stdout",
     "output_type": "stream",
     "text": [
      "635 ns ± 4.38 ns per loop (mean ± std. dev. of 7 runs, 1,000,000 loops each)\n"
     ]
    }
   ],
   "source": [
    "arr = np.arange(1000)\n",
    "%timeit arr2 = arr **2"
   ]
  },
  {
   "cell_type": "code",
   "execution_count": 17,
   "id": "3548c902",
   "metadata": {},
   "outputs": [
    {
     "name": "stdout",
     "output_type": "stream",
     "text": [
      "[[ 1  2  3  4]\n",
      " [ 5  6  7  8]\n",
      " [ 9 10 11 12]]\n"
     ]
    }
   ],
   "source": [
    "arr2 = np.array([[1, 2, 3, 4], [5, 6, 7, 8], [9, 10, 11, 12]])\n",
    "print(arr2)"
   ]
  },
  {
   "cell_type": "code",
   "execution_count": 12,
   "id": "c0840d2c",
   "metadata": {},
   "outputs": [
    {
     "name": "stdout",
     "output_type": "stream",
     "text": [
      "2\n"
     ]
    }
   ],
   "source": [
    "print(arr2.ndim)"
   ]
  },
  {
   "cell_type": "code",
   "execution_count": 13,
   "id": "c9b6c275",
   "metadata": {},
   "outputs": [
    {
     "name": "stdout",
     "output_type": "stream",
     "text": [
      "(3, 4)\n"
     ]
    }
   ],
   "source": [
    "print(arr2.shape)"
   ]
  },
  {
   "cell_type": "code",
   "execution_count": 18,
   "id": "aff46712",
   "metadata": {},
   "outputs": [
    {
     "name": "stdout",
     "output_type": "stream",
     "text": [
      "[[[ 1  2  3]\n",
      "  [ 4  5  6]]\n",
      "\n",
      " [[ 7  8  9]\n",
      "  [10 11 12]]]\n"
     ]
    }
   ],
   "source": [
    "arr3 = arr2.reshape(2, -1,3)\n",
    "\n",
    "print(arr3)"
   ]
  },
  {
   "cell_type": "code",
   "execution_count": 19,
   "id": "a8ed3337",
   "metadata": {},
   "outputs": [
    {
     "name": "stdout",
     "output_type": "stream",
     "text": [
      "3\n"
     ]
    }
   ],
   "source": [
    "print(arr3.ndim)"
   ]
  },
  {
   "cell_type": "code",
   "execution_count": 20,
   "id": "4b4d461e",
   "metadata": {},
   "outputs": [
    {
     "name": "stdout",
     "output_type": "stream",
     "text": [
      "(2, 2, 3)\n"
     ]
    }
   ],
   "source": [
    "print(arr3.shape)"
   ]
  },
  {
   "cell_type": "code",
   "execution_count": 26,
   "id": "556bedf1",
   "metadata": {},
   "outputs": [],
   "source": [
    "Alist = np.array([1, 2, 3, 4, 5])\n",
    "Blist = np.array([6, 7, 8, 9, 10])"
   ]
  },
  {
   "cell_type": "code",
   "execution_count": 27,
   "id": "328da696",
   "metadata": {},
   "outputs": [
    {
     "name": "stdout",
     "output_type": "stream",
     "text": [
      "[ 7  9 11 13 15]\n",
      "[-5 -5 -5 -5 -5]\n",
      "[ 6 14 24 36 50]\n",
      "[6.         3.5        2.66666667 2.25       2.        ]\n"
     ]
    }
   ],
   "source": [
    "print(Alist + Blist)\n",
    "print(Alist - Blist)\n",
    "print(Alist * Blist)\n",
    "print(Blist / Alist)\n"
   ]
  },
  {
   "cell_type": "code",
   "execution_count": 33,
   "id": "711a3b06",
   "metadata": {},
   "outputs": [
    {
     "name": "stdout",
     "output_type": "stream",
     "text": [
      "[3 4 5 6 7]\n",
      "[-1  0  1  2  3]\n",
      "[ 2  4  6  8 10]\n",
      "[0.5 1.  1.5 2.  2.5]\n"
     ]
    }
   ],
   "source": [
    "print(Alist + 2)\n",
    "print(Alist - 2)\n",
    "print(Alist * 2)\n",
    "print(Alist / 2)\n"
   ]
  },
  {
   "cell_type": "code",
   "execution_count": 28,
   "id": "d7b17f08",
   "metadata": {},
   "outputs": [],
   "source": [
    "C_list = np.array([1, 2, 3, 4, 5])\n",
    "D_list = np.array([6, 7, 8, 9])"
   ]
  },
  {
   "cell_type": "code",
   "execution_count": 29,
   "id": "eebdb3f4",
   "metadata": {},
   "outputs": [
    {
     "ename": "ValueError",
     "evalue": "operands could not be broadcast together with shapes (5,) (4,) ",
     "output_type": "error",
     "traceback": [
      "\u001b[31m---------------------------------------------------------------------------\u001b[39m",
      "\u001b[31mValueError\u001b[39m                                Traceback (most recent call last)",
      "\u001b[36mCell\u001b[39m\u001b[36m \u001b[39m\u001b[32mIn[29]\u001b[39m\u001b[32m, line 1\u001b[39m\n\u001b[32m----> \u001b[39m\u001b[32m1\u001b[39m \u001b[38;5;28mprint\u001b[39m(\u001b[43mC_list\u001b[49m\u001b[43m \u001b[49m\u001b[43m+\u001b[49m\u001b[43m \u001b[49m\u001b[43mD_list\u001b[49m)\n",
      "\u001b[31mValueError\u001b[39m: operands could not be broadcast together with shapes (5,) (4,) "
     ]
    }
   ],
   "source": [
    "print(C_list + D_list)"
   ]
  },
  {
   "cell_type": "code",
   "execution_count": 30,
   "id": "a3e97df0",
   "metadata": {},
   "outputs": [],
   "source": [
    "E_list = np.array([1, 2, 3, 4, 5])\n",
    "F_list = np.array([6, 7, 8, 9, np.nan])"
   ]
  },
  {
   "cell_type": "code",
   "execution_count": 31,
   "id": "4031c8ab",
   "metadata": {},
   "outputs": [
    {
     "name": "stdout",
     "output_type": "stream",
     "text": [
      "[ 7.  9. 11. 13. nan]\n"
     ]
    }
   ],
   "source": [
    "print(E_list + F_list)"
   ]
  },
  {
   "cell_type": "code",
   "execution_count": 34,
   "id": "c7243b93",
   "metadata": {},
   "outputs": [],
   "source": [
    "a = np.array([1 , 2 , 3])\n",
    "b = np.array([10 , 20 , 30])"
   ]
  },
  {
   "cell_type": "code",
   "execution_count": 35,
   "id": "69a12166",
   "metadata": {},
   "outputs": [
    {
     "name": "stdout",
     "output_type": "stream",
     "text": [
      "[12 24 36]\n"
     ]
    }
   ],
   "source": [
    "print(2 * a + b)"
   ]
  },
  {
   "cell_type": "code",
   "execution_count": 36,
   "id": "a9f3b552",
   "metadata": {},
   "outputs": [
    {
     "name": "stdout",
     "output_type": "stream",
     "text": [
      "[False  True False]\n"
     ]
    }
   ],
   "source": [
    "print( a == 2)"
   ]
  },
  {
   "cell_type": "code",
   "execution_count": 37,
   "id": "74069e16",
   "metadata": {},
   "outputs": [
    {
     "data": {
      "text/plain": [
       "array([False,  True,  True])"
      ]
     },
     "execution_count": 37,
     "metadata": {},
     "output_type": "execute_result"
    }
   ],
   "source": [
    "b > 10"
   ]
  },
  {
   "cell_type": "code",
   "execution_count": 38,
   "id": "a77cf7b9",
   "metadata": {},
   "outputs": [
    {
     "data": {
      "text/plain": [
       "array([False,  True, False])"
      ]
     },
     "execution_count": 38,
     "metadata": {},
     "output_type": "execute_result"
    }
   ],
   "source": [
    "(a == 2) & (b > 10)"
   ]
  },
  {
   "cell_type": "code",
   "execution_count": null,
   "id": "c05af05b",
   "metadata": {},
   "outputs": [
    {
     "name": "stdout",
     "output_type": "stream",
     "text": [
      "[12 24 36]\n",
      "[False  True False]\n",
      "[False  True  True]\n"
     ]
    },
    {
     "data": {
      "text/plain": [
       "array([False,  True, False])"
      ]
     },
     "execution_count": 40,
     "metadata": {},
     "output_type": "execute_result"
    }
   ],
   "source": [
    "print(2 * a + b)\n",
    "print(a == 2)\n",
    "print(b > 10)\n",
    "(a == 2) & (b > 10)"
   ]
  },
  {
   "cell_type": "code",
   "execution_count": 41,
   "id": "d744ce17",
   "metadata": {},
   "outputs": [
    {
     "name": "stdout",
     "output_type": "stream",
     "text": [
      "2\n",
      "4\n"
     ]
    }
   ],
   "source": [
    "a = np.array([0, 1, 2, 3, 4])\n",
    "print(a[2])\n",
    "print(a[-1])"
   ]
  },
  {
   "cell_type": "code",
   "execution_count": null,
   "id": "5d3863c6",
   "metadata": {},
   "outputs": [],
   "source": [
    "Z_list = [[ 0, 1, 2], [3, 4, 5]]\n",
    "# 인덱싱하여 출력\n",
    "# 0 ,1, 5\n"
   ]
  },
  {
   "cell_type": "markdown",
   "id": "6d5cb0ab",
   "metadata": {},
   "source": [
    "인덱싱"
   ]
  },
  {
   "cell_type": "code",
   "execution_count": null,
   "id": "218d2d74",
   "metadata": {},
   "outputs": [
    {
     "data": {
      "text/plain": [
       "0"
      ]
     },
     "execution_count": 47,
     "metadata": {},
     "output_type": "execute_result"
    }
   ],
   "source": [
    "Z_list[0][0]"
   ]
  },
  {
   "cell_type": "code",
   "execution_count": 44,
   "id": "f0cb5635",
   "metadata": {},
   "outputs": [
    {
     "data": {
      "text/plain": [
       "1"
      ]
     },
     "execution_count": 44,
     "metadata": {},
     "output_type": "execute_result"
    }
   ],
   "source": [
    "Z_list[0][1]\n"
   ]
  },
  {
   "cell_type": "code",
   "execution_count": 45,
   "id": "f59aa591",
   "metadata": {},
   "outputs": [
    {
     "data": {
      "text/plain": [
       "5"
      ]
     },
     "execution_count": 45,
     "metadata": {},
     "output_type": "execute_result"
    }
   ],
   "source": [
    "Z_list[1][2]"
   ]
  },
  {
   "cell_type": "code",
   "execution_count": 48,
   "id": "b654e6ec",
   "metadata": {},
   "outputs": [
    {
     "name": "stdout",
     "output_type": "stream",
     "text": [
      "0\n",
      "1\n"
     ]
    },
    {
     "data": {
      "text/plain": [
       "5"
      ]
     },
     "execution_count": 48,
     "metadata": {},
     "output_type": "execute_result"
    }
   ],
   "source": [
    "print(Z_list[0][0])\n",
    "print(Z_list[0][1])\n",
    "Z_list[1][2]"
   ]
  },
  {
   "cell_type": "markdown",
   "id": "1c3199f9",
   "metadata": {},
   "source": [
    "슬라이싱\n"
   ]
  },
  {
   "cell_type": "code",
   "execution_count": null,
   "id": "866337a8",
   "metadata": {},
   "outputs": [
    {
     "name": "stdout",
     "output_type": "stream",
     "text": [
      "[0, 1, 2]\n"
     ]
    }
   ],
   "source": [
    "Z_list = [[ 0, 1, 2], [3, 4, 5]]\n",
    "# 슬라이싱 출력\n",
    "# [0, 1]\n",
    "# [4, 5]\n",
    "# [1, 4]\n",
    "print(Z_list[0])"
   ]
  },
  {
   "cell_type": "code",
   "execution_count": 55,
   "id": "b3b48b06",
   "metadata": {},
   "outputs": [
    {
     "name": "stdout",
     "output_type": "stream",
     "text": [
      "[0, 1]\n"
     ]
    }
   ],
   "source": [
    "print(Z_list[0][:2])"
   ]
  },
  {
   "cell_type": "code",
   "execution_count": 56,
   "id": "d3bce992",
   "metadata": {},
   "outputs": [
    {
     "name": "stdout",
     "output_type": "stream",
     "text": [
      "[4, 5]\n"
     ]
    }
   ],
   "source": [
    "print(Z_list[1][1:])"
   ]
  },
  {
   "cell_type": "code",
   "execution_count": 60,
   "id": "cd3b66e8",
   "metadata": {},
   "outputs": [],
   "source": [
    "result = [Z_list[0][1], Z_list[1][1]]"
   ]
  },
  {
   "cell_type": "code",
   "execution_count": 62,
   "id": "e7b83727",
   "metadata": {},
   "outputs": [
    {
     "data": {
      "text/plain": [
       "array([[0, 1, 2],\n",
       "       [3, 4, 5]])"
      ]
     },
     "execution_count": 62,
     "metadata": {},
     "output_type": "execute_result"
    }
   ],
   "source": [
    "Y_list = np.array([[ 0, 1, 2], [3, 4, 5]])\n",
    "Y_list"
   ]
  },
  {
   "cell_type": "code",
   "execution_count": 65,
   "id": "e4930ec3",
   "metadata": {},
   "outputs": [
    {
     "name": "stdout",
     "output_type": "stream",
     "text": [
      "0 1 5\n"
     ]
    }
   ],
   "source": [
    "print(Y_list[0,0], Y_list[0, 1], Y_list[1, 2])"
   ]
  },
  {
   "cell_type": "code",
   "execution_count": null,
   "id": "8911342b",
   "metadata": {},
   "outputs": [
    {
     "name": "stdout",
     "output_type": "stream",
     "text": [
      "[0 1]\n",
      "[4 5]\n",
      "[1 4]\n"
     ]
    }
   ],
   "source": [
    "print(Y_list[0, :2])    \n",
    "print(Y_list[1, 1:])\n",
    "print(Y_list[:, 1])"
   ]
  },
  {
   "cell_type": "code",
   "execution_count": 74,
   "id": "ccc83734",
   "metadata": {},
   "outputs": [
    {
     "data": {
      "text/plain": [
       "array([[ 0,  1,  2,  3,  4],\n",
       "       [ 5,  6,  7,  8,  9],\n",
       "       [10, 11, 12, 13, 14]])"
      ]
     },
     "execution_count": 74,
     "metadata": {},
     "output_type": "execute_result"
    }
   ],
   "source": [
    "X_list = np.array([[0, 1, 2, 3, 4], [5, 6, 7, 8, 9], [10, 11,12, 13, 14]])\n",
    "X_list"
   ]
  },
  {
   "cell_type": "code",
   "execution_count": 90,
   "id": "d510e06b",
   "metadata": {},
   "outputs": [
    {
     "name": "stdout",
     "output_type": "stream",
     "text": [
      "[ 2  7 12]\n",
      "[5 6 7 8 9]\n",
      "[[ 1  2  3]\n",
      " [ 6  7  8]\n",
      " [11 12 13]]\n"
     ]
    }
   ],
   "source": [
    "# 슬라이싱 3회 이상 도전\n",
    "print(X_list[:, 2])\n",
    "\n",
    "print(X_list[1, :])\n",
    "\n",
    "print(X_list[:, 1:4])"
   ]
  },
  {
   "cell_type": "code",
   "execution_count": 88,
   "id": "89a9ad75",
   "metadata": {},
   "outputs": [
    {
     "data": {
      "text/plain": [
       "array([0, 2, 4, 6, 8])"
      ]
     },
     "execution_count": 88,
     "metadata": {},
     "output_type": "execute_result"
    }
   ],
   "source": [
    "a = np.array([0, 1, 2, 3, 4, 5, 6, 7, 8, 9])\n",
    "idx = np.array([True, False,True, False,True, False,True, False,True, False])\n",
    "a[idx]"
   ]
  },
  {
   "cell_type": "code",
   "execution_count": 89,
   "id": "98b37384",
   "metadata": {},
   "outputs": [
    {
     "data": {
      "text/plain": [
       "array([0, 2, 5])"
      ]
     },
     "execution_count": 89,
     "metadata": {},
     "output_type": "execute_result"
    }
   ],
   "source": [
    "a = np.array([0, 1, 2, 3, 4, 5, 6, 7, 8, 9])\n",
    "idx = [0, 2, 5]\n",
    "a[idx]"
   ]
  },
  {
   "cell_type": "code",
   "execution_count": 91,
   "id": "198a2f51",
   "metadata": {},
   "outputs": [],
   "source": [
    "arr = np.array([1, 2, 3, 4, 5, 6, 7, 8])"
   ]
  },
  {
   "cell_type": "code",
   "execution_count": 92,
   "id": "2d17b1ec",
   "metadata": {},
   "outputs": [
    {
     "data": {
      "text/plain": [
       "array([False,  True, False,  True, False,  True, False,  True])"
      ]
     },
     "execution_count": 92,
     "metadata": {},
     "output_type": "execute_result"
    }
   ],
   "source": [
    "arr % 2 == 0 "
   ]
  },
  {
   "cell_type": "code",
   "execution_count": 95,
   "id": "d89d058c",
   "metadata": {},
   "outputs": [
    {
     "data": {
      "text/plain": [
       "array([2, 4, 6, 8])"
      ]
     },
     "execution_count": 95,
     "metadata": {},
     "output_type": "execute_result"
    }
   ],
   "source": [
    "arr[arr % 2 == 0]"
   ]
  },
  {
   "cell_type": "code",
   "execution_count": 97,
   "id": "b594d78e",
   "metadata": {},
   "outputs": [
    {
     "data": {
      "text/plain": [
       "array([ True, False,  True, False,  True, False,  True, False])"
      ]
     },
     "execution_count": 97,
     "metadata": {},
     "output_type": "execute_result"
    }
   ],
   "source": [
    "arr % 2 != 0 "
   ]
  },
  {
   "cell_type": "code",
   "execution_count": 99,
   "id": "8d2acb3d",
   "metadata": {},
   "outputs": [
    {
     "data": {
      "text/plain": [
       "array([1, 3, 5, 7])"
      ]
     },
     "execution_count": 99,
     "metadata": {},
     "output_type": "execute_result"
    }
   ],
   "source": [
    "arr[arr % 2 != 0]"
   ]
  },
  {
   "cell_type": "code",
   "execution_count": 100,
   "id": "49b72773",
   "metadata": {},
   "outputs": [
    {
     "data": {
      "text/plain": [
       "array([[ True, False,  True, False],\n",
       "       [ True, False,  True, False],\n",
       "       [ True, False,  True, False]])"
      ]
     },
     "execution_count": 100,
     "metadata": {},
     "output_type": "execute_result"
    }
   ],
   "source": [
    "arr2 % 2 != 0 "
   ]
  },
  {
   "cell_type": "code",
   "execution_count": 104,
   "id": "a7f2a8a4",
   "metadata": {},
   "outputs": [
    {
     "data": {
      "text/plain": [
       "array([[ 1,  2,  3,  4],\n",
       "       [ 5,  6,  7,  8],\n",
       "       [ 9, 10, 11, 12]])"
      ]
     },
     "execution_count": 104,
     "metadata": {},
     "output_type": "execute_result"
    }
   ],
   "source": [
    "a = np.array([[1 , 2 , 3 , 4 ], [5 , 6 , 7 , 8 ], [9 , 10 , 11 , 12]])\n",
    "a"
   ]
  },
  {
   "cell_type": "code",
   "execution_count": 105,
   "id": "328fecea",
   "metadata": {},
   "outputs": [
    {
     "data": {
      "text/plain": [
       "array([[ 1,  4],\n",
       "       [ 5,  8],\n",
       "       [ 9, 12]])"
      ]
     },
     "execution_count": 105,
     "metadata": {},
     "output_type": "execute_result"
    }
   ],
   "source": [
    "a[: , [0,3]]"
   ]
  },
  {
   "cell_type": "code",
   "execution_count": 106,
   "id": "01064693",
   "metadata": {},
   "outputs": [
    {
     "data": {
      "text/plain": [
       "array([ 1,  2,  3,  4,  5,  6,  7,  8,  9, 10, 11, 12, 13, 14, 15, 16, 17,\n",
       "       18, 19, 20])"
      ]
     },
     "execution_count": 106,
     "metadata": {},
     "output_type": "execute_result"
    }
   ],
   "source": [
    "x = np.array ([1 , 2 , 3 , 4 , 5 , 6 , 7 , 8 , 9 , 10, 11 , 12 , 13 , 14 , 15 , 16 , 17 , 18 , 19 , 20])\n",
    "x"
   ]
  },
  {
   "cell_type": "code",
   "execution_count": null,
   "id": "2cffa3c8",
   "metadata": {},
   "outputs": [],
   "source": [
    "x % 3 ==0\n"
   ]
  }
 ],
 "metadata": {
  "kernelspec": {
   "display_name": "Python 3",
   "language": "python",
   "name": "python3"
  },
  "language_info": {
   "codemirror_mode": {
    "name": "ipython",
    "version": 3
   },
   "file_extension": ".py",
   "mimetype": "text/x-python",
   "name": "python",
   "nbconvert_exporter": "python",
   "pygments_lexer": "ipython3",
   "version": "3.11.8"
  }
 },
 "nbformat": 4,
 "nbformat_minor": 5
}
